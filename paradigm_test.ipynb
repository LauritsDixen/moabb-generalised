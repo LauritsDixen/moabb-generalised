{
 "cells": [
  {
   "cell_type": "code",
   "execution_count": 3,
   "metadata": {},
   "outputs": [
    {
     "name": "stdout",
     "output_type": "stream",
     "text": [
      "Loading BIDS layout...\n",
      "BIDS layout loaded.\n"
     ]
    }
   ],
   "source": [
    "from moabb import paradigms as moabb_paradigms\n",
    "from moabb.evaluations import (\n",
    "    MixedSubjectSingleEvaluation,\n",
    "    CrossSubjectSingleEvaluation,\n",
    ")\n",
    "from moabb.datasets import FER\n",
    "\n",
    "# %load_ext autoreload\n",
    "# %autoreload 2\n",
    "\n",
    "data_path = '/Users/ldix/Documents/Projects/fer_BIDS'\n",
    "evaluation = MixedSubjectSingleEvaluation\n",
    "dataset = FER(data_path)\n",
    "paradigm = moabb_paradigms.DiscreteEmotions()\n",
    "pipefile = \"/Users/ldix/Documents/Projects/moabb-generalised/pipelines/braindecode_shallowFSCBPNet.yml\"\n",
    "\n",
    "# suffix = f\"ds-{dataset_name}_pipe-{run_configs['pipeline']}_fold-{run_configs['fold']}\"\n"
   ]
  },
  {
   "cell_type": "code",
   "execution_count": 7,
   "metadata": {},
   "outputs": [
    {
     "ename": "TypeError",
     "evalue": "SingleEvaluation.__init__() missing 1 required positional argument: 'fold'",
     "output_type": "error",
     "traceback": [
      "\u001b[0;31m---------------------------------------------------------------------------\u001b[0m",
      "\u001b[0;31mTypeError\u001b[0m                                 Traceback (most recent call last)",
      "Cell \u001b[0;32mIn[7], line 1\u001b[0m\n\u001b[0;32m----> 1\u001b[0m res \u001b[38;5;241m=\u001b[39m \u001b[43mevaluation\u001b[49m\u001b[43m(\u001b[49m\n\u001b[1;32m      2\u001b[0m \u001b[43m    \u001b[49m\u001b[43mparadigm\u001b[49m\u001b[38;5;241;43m=\u001b[39;49m\u001b[43mparadigm\u001b[49m\u001b[43m,\u001b[49m\n\u001b[1;32m      3\u001b[0m \u001b[43m    \u001b[49m\u001b[43mdatasets\u001b[49m\u001b[38;5;241;43m=\u001b[39;49m\u001b[43mdataset\u001b[49m\u001b[43m,\u001b[49m\n\u001b[1;32m      4\u001b[0m \u001b[43m    \u001b[49m\u001b[38;5;66;43;03m# n_splits=configs['n_splits'],\u001b[39;49;00m\n\u001b[1;32m      5\u001b[0m \u001b[43m    \u001b[49m\u001b[38;5;66;43;03m# random_state=configs['random_state'],\u001b[39;49;00m\n\u001b[1;32m      6\u001b[0m \u001b[43m    \u001b[49m\u001b[38;5;66;43;03m# overwrite=configs['overwrite'],\u001b[39;49;00m\n\u001b[1;32m      7\u001b[0m \u001b[43m    \u001b[49m\u001b[38;5;66;43;03m# save_model=configs['save_model'],\u001b[39;49;00m\n\u001b[1;32m      8\u001b[0m \u001b[43m    \u001b[49m\u001b[38;5;66;43;03m# hdf5_path=configs['results_folder'],\u001b[39;49;00m\n\u001b[1;32m      9\u001b[0m \u001b[43m    \u001b[49m\u001b[38;5;66;43;03m# suffix=suffix,\u001b[39;49;00m\n\u001b[1;32m     10\u001b[0m \u001b[43m    \u001b[49m\u001b[38;5;66;43;03m# cache_config=configs['cache_config'],\u001b[39;49;00m\n\u001b[1;32m     11\u001b[0m \u001b[43m    \u001b[49m\u001b[43mfold\u001b[49m\u001b[38;5;241;43m=\u001b[39;49m\u001b[38;5;241;43m0\u001b[39;49m\u001b[38;5;66;43;03m#run_configs['fold']\u001b[39;49;00m\n\u001b[1;32m     12\u001b[0m \u001b[43m \u001b[49m\u001b[43m)\u001b[49m\u001b[38;5;241m.\u001b[39mprocess(\n\u001b[1;32m     13\u001b[0m     pipefile\u001b[38;5;241m=\u001b[39mpipefile\n\u001b[1;32m     14\u001b[0m )\n\u001b[1;32m     16\u001b[0m \u001b[38;5;28mprint\u001b[39m(\u001b[38;5;124mf\u001b[39m\u001b[38;5;124m\"\u001b[39m\u001b[38;5;124mResults: \u001b[39m\u001b[38;5;132;01m{\u001b[39;00mres\u001b[38;5;132;01m}\u001b[39;00m\u001b[38;5;124m\"\u001b[39m)\n",
      "File \u001b[0;32m~/Documents/Projects/moabb-generalised/moabb/evaluations/evaluations_single.py:93\u001b[0m, in \u001b[0;36mMixedSubjectSingleEvaluation.__init__\u001b[0;34m(self, fold, n_splits, **kwargs)\u001b[0m\n\u001b[1;32m     91\u001b[0m \u001b[38;5;28;01mdef\u001b[39;00m \u001b[38;5;21m__init__\u001b[39m(\u001b[38;5;28mself\u001b[39m, fold, n_splits\u001b[38;5;241m=\u001b[39m\u001b[38;5;241m5\u001b[39m, \u001b[38;5;241m*\u001b[39m\u001b[38;5;241m*\u001b[39mkwargs):\n\u001b[1;32m     92\u001b[0m     \u001b[38;5;28mself\u001b[39m\u001b[38;5;241m.\u001b[39mfold \u001b[38;5;241m=\u001b[39m fold\n\u001b[0;32m---> 93\u001b[0m     \u001b[38;5;28;43msuper\u001b[39;49m\u001b[43m(\u001b[49m\u001b[43m)\u001b[49m\u001b[38;5;241;43m.\u001b[39;49m\u001b[38;5;21;43m__init__\u001b[39;49m\u001b[43m(\u001b[49m\u001b[43mn_splits\u001b[49m\u001b[38;5;241;43m=\u001b[39;49m\u001b[43mn_splits\u001b[49m\u001b[43m,\u001b[49m\u001b[43m \u001b[49m\u001b[38;5;241;43m*\u001b[39;49m\u001b[38;5;241;43m*\u001b[39;49m\u001b[43mkwargs\u001b[49m\u001b[43m)\u001b[49m\n",
      "\u001b[0;31mTypeError\u001b[0m: SingleEvaluation.__init__() missing 1 required positional argument: 'fold'"
     ]
    }
   ],
   "source": [
    "res = evaluation(\n",
    "    paradigm=paradigm,\n",
    "    datasets=dataset,\n",
    "    # n_splits=configs['n_splits'],\n",
    "    # random_state=configs['random_state'],\n",
    "    # overwrite=configs['overwrite'],\n",
    "    # save_model=configs['save_model'],\n",
    "    # hdf5_path=configs['results_folder'],\n",
    "    # suffix=suffix,\n",
    "    # cache_config=configs['cache_config'],\n",
    "    fold=0#run_configs['fold']\n",
    " ).process(\n",
    "    pipefile=pipefile\n",
    ")\n",
    "\n",
    "print(f\"Results: {res}\")"
   ]
  },
  {
   "cell_type": "code",
   "execution_count": 3,
   "metadata": {},
   "outputs": [],
   "source": [
    "from pathlib import Path\n",
    "from bids import BIDSLayout\n",
    "\n",
    "data_path = Path('/Users/ldix/Documents/Projects/fer_BIDS')\n",
    "l = BIDSLayout(data_path)"
   ]
  },
  {
   "cell_type": "code",
   "execution_count": 5,
   "metadata": {},
   "outputs": [
    {
     "data": {
      "text/plain": [
       "[]"
      ]
     },
     "execution_count": 5,
     "metadata": {},
     "output_type": "execute_result"
    }
   ],
   "source": [
    "l.get_sessions()"
   ]
  },
  {
   "cell_type": "code",
   "execution_count": null,
   "metadata": {},
   "outputs": [
    {
     "data": {
      "text/plain": [
       "{'datatype': 'eeg',\n",
       " 'extension': '.edf',\n",
       " 'run': 0,\n",
       " 'subject': 'cxy',\n",
       " 'suffix': 'eeg',\n",
       " 'task': 'fer'}"
      ]
     },
     "execution_count": 80,
     "metadata": {},
     "output_type": "execute_result"
    }
   ],
   "source": [
    "event_files = l.get(suffix='eeg', run=[], session=[], extension=['.edf'], subject='cxy')\n",
    "event_files[0].get_entities()\n",
    "# valid_subjects = list(set([v.entities['subject'] for v in eggs]))\n",
    "# valid_subjects"
   ]
  },
  {
   "cell_type": "code",
   "execution_count": 1,
   "metadata": {},
   "outputs": [
    {
     "name": "stdout",
     "output_type": "stream",
     "text": [
      "Loading BIDS layout...\n",
      "BIDS layout loaded.\n"
     ]
    }
   ],
   "source": [
    "from moabb.datasets import BIDS\n",
    "data_path = '/Users/ldix/Documents/Projects/fer_BIDS'\n",
    "dataset = BIDS(BIDS_path=data_path)"
   ]
  },
  {
   "cell_type": "code",
   "execution_count": null,
   "metadata": {},
   "outputs": [],
   "source": [
    "import mne\n",
    "egg = dataset.layout.get(subject='cxy', suffix='eeg', extension='edf', run='1')[0]\n",
    "raw = mne.io.read_raw_edf(egg, preload=True, verbose=False)\n"
   ]
  },
  {
   "cell_type": "code",
   "execution_count": null,
   "metadata": {},
   "outputs": [
    {
     "ename": "KeyError",
     "evalue": "\"kind must be one of ['grad', 'mag', 'ref_meg', 'eeg', 'seeg', 'dbs', 'ecog', 'eog', 'emg', 'ecg', 'resp', 'bio', 'misc', 'stim', 'exci', 'syst', 'ias', 'gof', 'dipole', 'chpi', 'fnirs_cw_amplitude', 'fnirs_fd_ac_amplitude', 'fnirs_fd_phase', 'fnirs_od', 'hbo', 'hbr', 'csd', 'temperature', 'gsr', 'eyegaze', 'pupil'], not EEG\"",
     "output_type": "error",
     "traceback": [
      "\u001b[0;31m---------------------------------------------------------------------------\u001b[0m",
      "\u001b[0;31mKeyError\u001b[0m                                  Traceback (most recent call last)",
      "Cell \u001b[0;32mIn[58], line 8\u001b[0m\n\u001b[1;32m      5\u001b[0m channels_file \u001b[38;5;241m=\u001b[39m dataset\u001b[38;5;241m.\u001b[39mlayout\u001b[38;5;241m.\u001b[39mget_nearest(path \u001b[38;5;241m=\u001b[39m egg\u001b[38;5;241m.\u001b[39mpath\u001b[38;5;241m.\u001b[39mreplace(\u001b[38;5;124m'\u001b[39m\u001b[38;5;124meeg.edf\u001b[39m\u001b[38;5;124m'\u001b[39m,\u001b[38;5;124m'\u001b[39m\u001b[38;5;124mchannels.tsv\u001b[39m\u001b[38;5;124m'\u001b[39m), suffix\u001b[38;5;241m=\u001b[39m\u001b[38;5;124m'\u001b[39m\u001b[38;5;124mchannels\u001b[39m\u001b[38;5;124m'\u001b[39m, return_type\u001b[38;5;241m=\u001b[39m\u001b[38;5;124m'\u001b[39m\u001b[38;5;124mid\u001b[39m\u001b[38;5;124m'\u001b[39m)\n\u001b[1;32m      7\u001b[0m channels \u001b[38;5;241m=\u001b[39m pd\u001b[38;5;241m.\u001b[39mread_csv(channels_file\u001b[38;5;241m.\u001b[39mpath, sep\u001b[38;5;241m=\u001b[39m\u001b[38;5;124m'\u001b[39m\u001b[38;5;130;01m\\t\u001b[39;00m\u001b[38;5;124m'\u001b[39m)\n\u001b[0;32m----> 8\u001b[0m info \u001b[38;5;241m=\u001b[39m \u001b[43mmne\u001b[49m\u001b[38;5;241;43m.\u001b[39;49m\u001b[43mcreate_info\u001b[49m\u001b[43m(\u001b[49m\u001b[43mch_names\u001b[49m\u001b[38;5;241;43m=\u001b[39;49m\u001b[43mchannels\u001b[49m\u001b[43m[\u001b[49m\u001b[38;5;124;43m'\u001b[39;49m\u001b[38;5;124;43mname\u001b[39;49m\u001b[38;5;124;43m'\u001b[39;49m\u001b[43m]\u001b[49m\u001b[38;5;241;43m.\u001b[39;49m\u001b[43mvalues\u001b[49m\u001b[38;5;241;43m.\u001b[39;49m\u001b[43mtolist\u001b[49m\u001b[43m(\u001b[49m\u001b[43m)\u001b[49m\u001b[43m,\u001b[49m\u001b[43m \u001b[49m\u001b[43msfreq\u001b[49m\u001b[38;5;241;43m=\u001b[39;49m\u001b[43mraw\u001b[49m\u001b[38;5;241;43m.\u001b[39;49m\u001b[43minfo\u001b[49m\u001b[43m[\u001b[49m\u001b[38;5;124;43m'\u001b[39;49m\u001b[38;5;124;43msfreq\u001b[39;49m\u001b[38;5;124;43m'\u001b[39;49m\u001b[43m]\u001b[49m\u001b[43m,\u001b[49m\u001b[43m \u001b[49m\u001b[43mch_types\u001b[49m\u001b[38;5;241;43m=\u001b[39;49m\u001b[43mchannels\u001b[49m\u001b[43m[\u001b[49m\u001b[38;5;124;43m'\u001b[39;49m\u001b[38;5;124;43mtype\u001b[39;49m\u001b[38;5;124;43m'\u001b[39;49m\u001b[43m]\u001b[49m\u001b[38;5;241;43m.\u001b[39;49m\u001b[43mvalues\u001b[49m\u001b[38;5;241;43m.\u001b[39;49m\u001b[43mtolist\u001b[49m\u001b[43m(\u001b[49m\u001b[43m)\u001b[49m\u001b[43m)\u001b[49m\n\u001b[1;32m      9\u001b[0m mne \u001b[38;5;241m=\u001b[39m mne\u001b[38;5;241m.\u001b[39mio\u001b[38;5;241m.\u001b[39mread_raw_edf(datafile, preload\u001b[38;5;241m=\u001b[39m\u001b[38;5;28;01mTrue\u001b[39;00m, verbose\u001b[38;5;241m=\u001b[39m\u001b[38;5;28;01mFalse\u001b[39;00m, info\u001b[38;5;241m=\u001b[39minfo)\n",
      "File \u001b[0;32m<decorator-gen-33>:12\u001b[0m, in \u001b[0;36mcreate_info\u001b[0;34m(ch_names, sfreq, ch_types, verbose)\u001b[0m\n",
      "File \u001b[0;32m~/miniconda3/envs/bci/lib/python3.12/site-packages/mne/_fiff/meas_info.py:3223\u001b[0m, in \u001b[0;36mcreate_info\u001b[0;34m(ch_names, sfreq, ch_types, verbose)\u001b[0m\n\u001b[1;32m   3221\u001b[0m _validate_type(ch_type, \u001b[38;5;124m\"\u001b[39m\u001b[38;5;124mstr\u001b[39m\u001b[38;5;124m\"\u001b[39m, \u001b[38;5;124m\"\u001b[39m\u001b[38;5;124meach entry in ch_types\u001b[39m\u001b[38;5;124m\"\u001b[39m)\n\u001b[1;32m   3222\u001b[0m \u001b[38;5;28;01mif\u001b[39;00m ch_type \u001b[38;5;129;01mnot\u001b[39;00m \u001b[38;5;129;01min\u001b[39;00m ch_types_dict:\n\u001b[0;32m-> 3223\u001b[0m     \u001b[38;5;28;01mraise\u001b[39;00m \u001b[38;5;167;01mKeyError\u001b[39;00m(\n\u001b[1;32m   3224\u001b[0m         \u001b[38;5;124mf\u001b[39m\u001b[38;5;124m\"\u001b[39m\u001b[38;5;124mkind must be one of \u001b[39m\u001b[38;5;132;01m{\u001b[39;00m\u001b[38;5;28mlist\u001b[39m(ch_types_dict)\u001b[38;5;132;01m}\u001b[39;00m\u001b[38;5;124m, \u001b[39m\u001b[38;5;124m\"\u001b[39m \u001b[38;5;124mf\u001b[39m\u001b[38;5;124m\"\u001b[39m\u001b[38;5;124mnot \u001b[39m\u001b[38;5;132;01m{\u001b[39;00mch_type\u001b[38;5;132;01m}\u001b[39;00m\u001b[38;5;124m\"\u001b[39m\n\u001b[1;32m   3225\u001b[0m     )\n\u001b[1;32m   3226\u001b[0m this_ch_dict \u001b[38;5;241m=\u001b[39m ch_types_dict[ch_type]\n\u001b[1;32m   3227\u001b[0m kind \u001b[38;5;241m=\u001b[39m this_ch_dict[\u001b[38;5;124m\"\u001b[39m\u001b[38;5;124mkind\u001b[39m\u001b[38;5;124m\"\u001b[39m]\n",
      "\u001b[0;31mKeyError\u001b[0m: \"kind must be one of ['grad', 'mag', 'ref_meg', 'eeg', 'seeg', 'dbs', 'ecog', 'eog', 'emg', 'ecg', 'resp', 'bio', 'misc', 'stim', 'exci', 'syst', 'ias', 'gof', 'dipole', 'chpi', 'fnirs_cw_amplitude', 'fnirs_fd_ac_amplitude', 'fnirs_fd_phase', 'fnirs_od', 'hbo', 'hbr', 'csd', 'temperature', 'gsr', 'eyegaze', 'pupil'], not EEG\""
     ]
    }
   ],
   "source": [
    "import pandas as pd\n",
    "import mne\n",
    "\n",
    "datafile = egg.path\n",
    "channels_file = dataset.layout.get_nearest(path = egg.path.replace('eeg.edf','channels.tsv'), suffix='channels', return_type='id')\n",
    "\n",
    "channels = pd.read_csv(channels_file.path, sep='\\t')\n",
    "info = mne.create_info(ch_names=channels['name'].values.tolist(), sfreq=raw.info['sfreq'], ch_types=channels['type'].values.tolist())\n",
    "raw = mne.io.read_raw_edf(datafile, preload=True, verbose=False, info=info)"
   ]
  },
  {
   "cell_type": "code",
   "execution_count": 31,
   "metadata": {},
   "outputs": [
    {
     "data": {
      "text/plain": [
       "{'datatype': 'eeg',\n",
       " 'extension': '.edf',\n",
       " 'run': 1,\n",
       " 'subject': 'cxy',\n",
       " 'suffix': 'eeg',\n",
       " 'task': 'fer'}"
      ]
     },
     "execution_count": 31,
     "metadata": {},
     "output_type": "execute_result"
    }
   ],
   "source": [
    "criteria = egg.get_entities()\n",
    "criteria\n",
    "# criteria['']\n",
    "# dataset.layout.get()"
   ]
  },
  {
   "cell_type": "code",
   "execution_count": 26,
   "metadata": {},
   "outputs": [
    {
     "data": {
      "text/plain": [
       "{'CapManufacturer': 'EasyCap',\n",
       " 'CapManufacturersModelName': 'BrainCap',\n",
       " 'ECGChannelCount': 0,\n",
       " 'EEGChannelCount': 63,\n",
       " 'EEGGround': 'neck',\n",
       " 'EEGPlacementScheme': '10-20',\n",
       " 'EEGReference': 'left earlobe',\n",
       " 'EMGChannelCount': 0,\n",
       " 'EOGChannelCount': 0,\n",
       " 'HardwareFilters': 'n/a',\n",
       " 'Manufacturer': 'g.tec',\n",
       " 'ManufacturersModelName': 'g.HIamp-Research',\n",
       " 'MiscChannelCount': 0,\n",
       " 'PowerLineFrequency': 50,\n",
       " 'RecordingDuration': 1365.0,\n",
       " 'RecordingType': 'continuous',\n",
       " 'SamplingFrequency': 256.0,\n",
       " 'SoftwareFilters': {'Highpass': {'Cut-off frequency': 0.5, 'Filter order': 4},\n",
       "  'Lowpass': {'Cut-off frequency': 100, 'Filter order': 4},\n",
       "  'Notch': {'Cut-off frequency': 50, 'Filter order': 4}},\n",
       " 'SubjectArtefactDescription': 'n/a',\n",
       " 'TaskName': 'FER',\n",
       " 'TriggerChannelCount': 0}"
      ]
     },
     "execution_count": 26,
     "metadata": {},
     "output_type": "execute_result"
    }
   ],
   "source": [
    "raw.info['temp'] = egg.get_metadata()\n",
    "raw.info['temp']\n",
    "# egg.get_metadata()"
   ]
  },
  {
   "cell_type": "code",
   "execution_count": null,
   "metadata": {},
   "outputs": [],
   "source": [
    "### GETTING EVENTS\n",
    "\n",
    "\n",
    "sfreq = raw.info[\"sfreq\"]\n",
    "BIDS_file = self.layout.get_file(raw.filenames[0])\n",
    "subj = BIDS_file.entities[\"subject\"]\n",
    "run = BIDS_file.entities[\"run\"]\n",
    "events_file = self.layout.get(suffix='events', subject=subj, run=run)[0].path\n",
    "events_df = pd.read_csv(events_file, sep=\"\\t\")\n",
    "\n",
    "events_df = events_df[events_df['flag'] == \"video\"]\n",
    "onset = events_df['onset'].values * sfreq\n",
    "description = events_df['trial_type'].apply(lambda x: self.event_id[x]).values\n",
    "\n",
    "events = np.vstack([onset, np.zeros_like(onset), description]).T\n",
    "events = events.astype(int)\n"
   ]
  }
 ],
 "metadata": {
  "kernelspec": {
   "display_name": "bci",
   "language": "python",
   "name": "python3"
  },
  "language_info": {
   "codemirror_mode": {
    "name": "ipython",
    "version": 3
   },
   "file_extension": ".py",
   "mimetype": "text/x-python",
   "name": "python",
   "nbconvert_exporter": "python",
   "pygments_lexer": "ipython3",
   "version": "3.12.3"
  }
 },
 "nbformat": 4,
 "nbformat_minor": 2
}
