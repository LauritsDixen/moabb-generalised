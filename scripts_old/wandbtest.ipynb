{
 "cells": [
  {
   "cell_type": "code",
   "execution_count": 1,
   "metadata": {},
   "outputs": [],
   "source": [
    "import warnings\n",
    "warnings.simplefilter(action='ignore', category=FutureWarning)\n",
    "warnings.simplefilter(action='ignore', category=UserWarning)\n",
    "\n",
    "# import logging\n",
    "\n",
    "# from argparse import ArgumentParser\n",
    "# import mne\n",
    "\n",
    "# from moabb.benchmark import benchmark\n",
    "from moabb.benchmark_parallel import BenchmarkParallel\n",
    "\n",
    "from pathlib import Path\n",
    "\n",
    "cwd = Path.cwd()\n",
    "pipe_dir = cwd.parent / \"examples\" / \"pipelines_braindecode\"\n"
   ]
  },
  {
   "cell_type": "code",
   "execution_count": 18,
   "metadata": {},
   "outputs": [
    {
     "data": {
      "text/plain": [
       "dict_keys(['__name__', '__doc__', '__package__', '__loader__', '__spec__', '__path__', '__file__', '__cached__', '__builtins__', 'base', 'cvep', 'logging', 'utils', 'FakeDataset', 'BaseParadigm', 'log', 'BaseCVEP', 'CVEP', 'FilterBankCVEP', 'FakeCVEPParadigm', 'fixed_interval_windows', 'RawToFixedIntervalEvents', 'BaseProcessing', 'BaseFixedIntervalWindowsProcessing', 'FixedIntervalWindowsProcessing', 'FilterBankFixedIntervalWindowsProcessing', 'motor_imagery', 'abc', 'BaseMotorImagery', 'SinglePass', 'FilterBank', 'LeftRightImagery', 'FilterBankLeftRightImagery', 'FilterBankMotorImagery', 'MotorImagery', 'FakeImageryParadigm', 'p300', 'RawToEventsP300', 'BaseP300', 'P300', 'FakeP300Paradigm', 'resting_state', 'welch', 'RestingStateToP300Adapter', 'ssvep', 'BaseSSVEP', 'SSVEP', 'FilterBankSSVEP', 'FakeSSVEPParadigm'])"
      ]
     },
     "execution_count": 18,
     "metadata": {},
     "output_type": "execute_result"
    }
   ],
   "source": [
    "from moabb import paradigms as moabb_paradigms\n",
    "moabb_paradigms.__dict__.keys()"
   ]
  },
  {
   "cell_type": "code",
   "execution_count": 26,
   "metadata": {},
   "outputs": [
    {
     "name": "stderr",
     "output_type": "stream",
     "text": [
      "Choosing from all possible events\n"
     ]
    },
    {
     "data": {
      "text/plain": [
       "{'BNCI2014-004': [1, 2, 3, 4, 5, 6, 7, 8, 9]}"
      ]
     },
     "execution_count": 26,
     "metadata": {},
     "output_type": "execute_result"
    }
   ],
   "source": [
    "from moabb.paradigms import MotorImagery\n",
    "\n",
    "p = MotorImagery()\n",
    "{d.code: d.subject_list for d in p.datasets if d.code == \"BNCI2014-004\"}"
   ]
  },
  {
   "cell_type": "code",
   "execution_count": 28,
   "metadata": {},
   "outputs": [
    {
     "data": {
      "text/plain": [
       "[1, 2, 3, 4, 5, 6, 7, 8, 9]"
      ]
     },
     "execution_count": 28,
     "metadata": {},
     "output_type": "execute_result"
    }
   ],
   "source": [
    "[d for d in p.datasets if d.code == \"BNCI2014-004\"][0].subject_list"
   ]
  },
  {
   "cell_type": "code",
   "execution_count": 110,
   "metadata": {},
   "outputs": [
    {
     "name": "stdout",
     "output_type": "stream",
     "text": [
      "string\n"
     ]
    }
   ],
   "source": [
    "## check if variable is string or list\n",
    "if isinstance('BNCI2014_004', str):\n",
    "    print('string')"
   ]
  },
  {
   "cell_type": "code",
   "execution_count": 178,
   "metadata": {},
   "outputs": [
    {
     "name": "stdout",
     "output_type": "stream",
     "text": [
      "(array([0, 1, 3, 4, 5, 6, 7, 8]), array([2, 9]))\n",
      "(array([0, 1, 3, 4, 5, 6, 7, 8]), array([2, 9]))\n"
     ]
    },
    {
     "data": {
      "text/plain": [
       "(array([ 0,  1,  3,  4,  5,  6,  7,  8, 10, 11, 13, 14, 15, 16, 17, 18]),\n",
       " array([ 2,  9, 12, 19]))"
      ]
     },
     "execution_count": 178,
     "metadata": {},
     "output_type": "execute_result"
    }
   ],
   "source": [
    "from sklearn.model_selection import (\n",
    "    StratifiedKFold\n",
    ")\n",
    "import numpy as np\n",
    "\n",
    "X = np.array([i for i in range(20)])\n",
    "# every second sample is class 1\n",
    "y = np.array([0, 1] * 10)\n",
    "# firsthalf is subject 0, second half is subject 1\n",
    "subjects = np.array([0] * 10 + [1] * 10)\n",
    "\n",
    "fold_idx = 4\n",
    "\n",
    "train_idx, test_idx = [], []\n",
    "for subject in np.unique(subjects):\n",
    "    sss = StratifiedKFold(\n",
    "        n_splits=5, shuffle=True, random_state=42\n",
    "    )\n",
    "    subj_idx = np.where(subjects == subject)[0]\n",
    "    y_subj = y[subj_idx]\n",
    "    train_idx_subj, test_idx_subj = list(sss.split(subj_idx, y_subj))[fold_idx]\n",
    "    train_idx.append(subj_idx[train_idx_subj])\n",
    "    test_idx.append(subj_idx[test_idx_subj])\n",
    "np.concatenate(train_idx), np.concatenate(test_idx)"
   ]
  },
  {
   "cell_type": "code",
   "execution_count": 180,
   "metadata": {},
   "outputs": [
    {
     "name": "stdout",
     "output_type": "stream",
     "text": [
      "We try to set the tensorflow seeds, but it seems that tensorflow is not installed. Please refer to `https://www.tensorflow.org/` to install if you need to use this deep learning module.\n"
     ]
    },
    {
     "data": {
      "text/plain": [
       "{'name': 'my_ShallowFBCSPNet',\n",
       " 'paradigms': ['LeftRightImagery', 'MotorImagery'],\n",
       " 'return_epochs': True,\n",
       " 'pipeline': Pipeline(steps=[('resample', Resampler_Epoch(sfreq=250)),\n",
       "                 ('ShallowFBCSPNet',\n",
       "                  <class 'braindecode.classifier.EEGClassifier'>[uninitialized](\n",
       "   module=<class 'braindecode.models.shallow_fbcsp.ShallowFBCSPNet'>,\n",
       "   module__final_conv_length=auto,\n",
       " ))])}"
      ]
     },
     "execution_count": 180,
     "metadata": {},
     "output_type": "execute_result"
    }
   ],
   "source": [
    "import importlib\n",
    "from pathlib import Path\n",
    "\n",
    "def read_config(config_file):\n",
    "    if config_file.suffix == \".py\":\n",
    "        spec = importlib.util.spec_from_file_location(\"custom\", config_file)\n",
    "        foo = importlib.util.module_from_spec(spec)\n",
    "        spec.loader.exec_module(foo)\n",
    "        return foo.PIPELINE\n",
    "    else:\n",
    "        raise ValueError(\"Invalid file format. Supported formats are .yml and .py\")\n",
    "\n",
    "config_file = \"/Users/ldix/Documents/Projects/moabb-generalised/pipelines/my_pipes/my_shallowNet.py\"\n",
    "\n",
    "config_file = Path(config_file)\n",
    "PIPELINE = read_config(config_file)\n"
   ]
  },
  {
   "cell_type": "code",
   "execution_count": 213,
   "metadata": {},
   "outputs": [
    {
     "data": {
      "text/plain": [
       "'mps'"
      ]
     },
     "execution_count": 213,
     "metadata": {},
     "output_type": "execute_result"
    }
   ],
   "source": [
    "PIPELINE['pipeline'].steps[1][1].device"
   ]
  },
  {
   "cell_type": "code",
   "execution_count": 214,
   "metadata": {},
   "outputs": [],
   "source": [
    "from sklearn.pipeline import make_pipeline\n",
    "\n",
    "def create_pipeline_from_config(config):\n",
    "    \"\"\"Create a pipeline from a config file.\n",
    "\n",
    "    takes a config dict as input and return the corresponding pipeline.\n",
    "\n",
    "    If the pipeline is a Tensorflow pipeline it convert also the optimizer function and the callbacks.\n",
    "\n",
    "    Parameters\n",
    "    ----------\n",
    "    config : Dict.\n",
    "        Dict containing the config parameters.\n",
    "\n",
    "    Returns\n",
    "    -------\n",
    "    pipeline : Pipeline\n",
    "        sklearn Pipeline\n",
    "    \"\"\"\n",
    "    components = []\n",
    "\n",
    "    for component in config:\n",
    "        # load the package\n",
    "        mod = __import__(component[\"from\"], fromlist=[component[\"name\"]])\n",
    "        # create the instance\n",
    "        if \"parameters\" in component.keys():\n",
    "            params = component[\"parameters\"]\n",
    "            if \"optimizer\" in component[\"parameters\"].keys():\n",
    "                for optm in component[\"parameters\"][\"optimizer\"]:\n",
    "                    mod_optm = __import__(name=optm[\"from\"], fromlist=[optm[\"name\"]])\n",
    "                    params_optm = optm[\"parameters\"]\n",
    "                    instance = getattr(mod_optm, optm[\"name\"])(**params_optm)\n",
    "                    component[\"parameters\"][\"optimizer\"] = instance\n",
    "\n",
    "            if \"callbacks\" in component[\"parameters\"].keys():\n",
    "                cb = []\n",
    "                for callbacks in component[\"parameters\"][\"callbacks\"]:\n",
    "                    mod_callbacks = __import__(\n",
    "                        name=callbacks[\"from\"], fromlist=[callbacks[\"name\"]]\n",
    "                    )\n",
    "                    params_callbacks = callbacks[\"parameters\"]\n",
    "                    instance = getattr(mod_callbacks, callbacks[\"name\"])(\n",
    "                        **params_callbacks\n",
    "                    )\n",
    "                    cb.append(instance)\n",
    "                component[\"parameters\"][\"callbacks\"] = cb\n",
    "\n",
    "        else:\n",
    "            params = {}\n",
    "        instance = getattr(mod, component[\"name\"])(**params)\n",
    "        components.append(instance)\n",
    "\n",
    "    pipeline = make_pipeline(*components)\n",
    "\n",
    "    return pipeline"
   ]
  },
  {
   "cell_type": "code",
   "execution_count": 10,
   "metadata": {},
   "outputs": [
    {
     "data": {
      "text/plain": [
       "{'method': 'grid',\n",
       " 'metric': {'goal': 'maximize', 'name': 'val_f1_score'},\n",
       " 'parameters': {'dataset': {'parameters': {'ds1': {'values': [1, 2, 3, 4]},\n",
       "    'ds2': {'value': [1, 2, 3]}}}}}"
      ]
     },
     "execution_count": 10,
     "metadata": {},
     "output_type": "execute_result"
    }
   ],
   "source": [
    "import yaml\n",
    "\n",
    "with open(\"nesttest.yaml\", \"r\") as f:\n",
    "    config = yaml.safe_load(f)\n",
    "config"
   ]
  },
  {
   "cell_type": "code",
   "execution_count": 15,
   "metadata": {},
   "outputs": [
    {
     "data": {
      "text/plain": [
       "{'ds1': {'values': [1, 2, 3, 4]}, 'ds2': {'value': [1, 2, 3]}}"
      ]
     },
     "execution_count": 15,
     "metadata": {},
     "output_type": "execute_result"
    }
   ],
   "source": [
    "config['parameters']['dataset']['parameters']"
   ]
  },
  {
   "cell_type": "code",
   "execution_count": 23,
   "metadata": {},
   "outputs": [
    {
     "name": "stdout",
     "output_type": "stream",
     "text": [
      "Create sweep with ID: zut1nu79\n",
      "Sweep URL: https://wandb.ai/brain-lab/moabb-testing/sweeps/zut1nu79\n"
     ]
    }
   ],
   "source": [
    "import wandb\n",
    "\n",
    "sweep_configuration = {\n",
    "    \"method\": \"grid\",\n",
    "    \"name\": \"nest-test\",\n",
    "    \"metric\": {\"goal\": \"minimize\", \"name\": \"loss\"},\n",
    "    \"parameters\": {\n",
    "        \"eval\": {\"value\": \"subject\"},\n",
    "        # \"datasets\" : {\"value\": [\"123\", \"456\"]},\n",
    "        \"runs\": {\n",
    "            \"values\": [\n",
    "                {\"dataset\" : \"123\", \"subject_list\": [1, 2, 3]},\n",
    "                {\"dataset\" : \"456\", \"subject_list\": [4, 5, 6]},\n",
    "            ]\n",
    "        },\n",
    "    }\n",
    "}\n",
    "\n",
    "sweep_id = wandb.sweep(sweep=sweep_configuration, project=\"moabb-testing\")"
   ]
  },
  {
   "cell_type": "code",
   "execution_count": 24,
   "metadata": {},
   "outputs": [
    {
     "name": "stderr",
     "output_type": "stream",
     "text": [
      "\u001b[34m\u001b[1mwandb\u001b[0m: Agent Starting Run: deh3ys54 with config:\n",
      "\u001b[34m\u001b[1mwandb\u001b[0m: \teval: subject\n",
      "\u001b[34m\u001b[1mwandb\u001b[0m: \tsubjects: {'dataset': '123', 'subject_list': [1, 2, 3]}\n"
     ]
    },
    {
     "data": {
      "text/html": [
       "Tracking run with wandb version 0.18.7"
      ],
      "text/plain": [
       "<IPython.core.display.HTML object>"
      ]
     },
     "metadata": {},
     "output_type": "display_data"
    },
    {
     "data": {
      "text/html": [
       "Run data is saved locally in <code>/Users/ldix/Documents/Projects/moabb-generalised/wandb/run-20241114_175206-deh3ys54</code>"
      ],
      "text/plain": [
       "<IPython.core.display.HTML object>"
      ]
     },
     "metadata": {},
     "output_type": "display_data"
    },
    {
     "data": {
      "text/html": [
       "Syncing run <strong><a href='https://wandb.ai/brain-lab/moabb-testing/runs/deh3ys54' target=\"_blank\">magic-sweep-1</a></strong> to <a href='https://wandb.ai/brain-lab/moabb-testing' target=\"_blank\">Weights & Biases</a> (<a href='https://wandb.me/developer-guide' target=\"_blank\">docs</a>)<br/>Sweep page: <a href='https://wandb.ai/brain-lab/moabb-testing/sweeps/zut1nu79' target=\"_blank\">https://wandb.ai/brain-lab/moabb-testing/sweeps/zut1nu79</a>"
      ],
      "text/plain": [
       "<IPython.core.display.HTML object>"
      ]
     },
     "metadata": {},
     "output_type": "display_data"
    },
    {
     "data": {
      "text/html": [
       " View project at <a href='https://wandb.ai/brain-lab/moabb-testing' target=\"_blank\">https://wandb.ai/brain-lab/moabb-testing</a>"
      ],
      "text/plain": [
       "<IPython.core.display.HTML object>"
      ]
     },
     "metadata": {},
     "output_type": "display_data"
    },
    {
     "data": {
      "text/html": [
       " View sweep at <a href='https://wandb.ai/brain-lab/moabb-testing/sweeps/zut1nu79' target=\"_blank\">https://wandb.ai/brain-lab/moabb-testing/sweeps/zut1nu79</a>"
      ],
      "text/plain": [
       "<IPython.core.display.HTML object>"
      ]
     },
     "metadata": {},
     "output_type": "display_data"
    },
    {
     "data": {
      "text/html": [
       " View run at <a href='https://wandb.ai/brain-lab/moabb-testing/runs/deh3ys54' target=\"_blank\">https://wandb.ai/brain-lab/moabb-testing/runs/deh3ys54</a>"
      ],
      "text/plain": [
       "<IPython.core.display.HTML object>"
      ]
     },
     "metadata": {},
     "output_type": "display_data"
    },
    {
     "name": "stdout",
     "output_type": "stream",
     "text": [
      "\n",
      "\n",
      "CONFIGS\n",
      "{'eval': 'subject', 'subjects': {'dataset': '123', 'subject_list': [1, 2, 3]}}\n"
     ]
    },
    {
     "data": {
      "text/html": [
       " View run <strong style=\"color:#cdcd00\">magic-sweep-1</strong> at: <a href='https://wandb.ai/brain-lab/moabb-testing/runs/deh3ys54' target=\"_blank\">https://wandb.ai/brain-lab/moabb-testing/runs/deh3ys54</a><br/> View project at: <a href='https://wandb.ai/brain-lab/moabb-testing' target=\"_blank\">https://wandb.ai/brain-lab/moabb-testing</a><br/>Synced 5 W&B file(s), 0 media file(s), 2 artifact file(s) and 0 other file(s)"
      ],
      "text/plain": [
       "<IPython.core.display.HTML object>"
      ]
     },
     "metadata": {},
     "output_type": "display_data"
    },
    {
     "data": {
      "text/html": [
       "Find logs at: <code>./wandb/run-20241114_175206-deh3ys54/logs</code>"
      ],
      "text/plain": [
       "<IPython.core.display.HTML object>"
      ]
     },
     "metadata": {},
     "output_type": "display_data"
    },
    {
     "name": "stderr",
     "output_type": "stream",
     "text": [
      "\u001b[34m\u001b[1mwandb\u001b[0m: Sweep Agent: Waiting for job.\n",
      "\u001b[34m\u001b[1mwandb\u001b[0m: Job received.\n",
      "\u001b[34m\u001b[1mwandb\u001b[0m: Agent Starting Run: mjvfizb0 with config:\n",
      "\u001b[34m\u001b[1mwandb\u001b[0m: \teval: subject\n",
      "\u001b[34m\u001b[1mwandb\u001b[0m: \tsubjects: {'dataset': '456', 'subject_list': [4, 5, 6]}\n"
     ]
    },
    {
     "data": {
      "text/html": [
       "Tracking run with wandb version 0.18.7"
      ],
      "text/plain": [
       "<IPython.core.display.HTML object>"
      ]
     },
     "metadata": {},
     "output_type": "display_data"
    },
    {
     "data": {
      "text/html": [
       "Run data is saved locally in <code>/Users/ldix/Documents/Projects/moabb-generalised/wandb/run-20241114_175221-mjvfizb0</code>"
      ],
      "text/plain": [
       "<IPython.core.display.HTML object>"
      ]
     },
     "metadata": {},
     "output_type": "display_data"
    },
    {
     "data": {
      "text/html": [
       "Syncing run <strong><a href='https://wandb.ai/brain-lab/moabb-testing/runs/mjvfizb0' target=\"_blank\">wise-sweep-2</a></strong> to <a href='https://wandb.ai/brain-lab/moabb-testing' target=\"_blank\">Weights & Biases</a> (<a href='https://wandb.me/developer-guide' target=\"_blank\">docs</a>)<br/>Sweep page: <a href='https://wandb.ai/brain-lab/moabb-testing/sweeps/zut1nu79' target=\"_blank\">https://wandb.ai/brain-lab/moabb-testing/sweeps/zut1nu79</a>"
      ],
      "text/plain": [
       "<IPython.core.display.HTML object>"
      ]
     },
     "metadata": {},
     "output_type": "display_data"
    },
    {
     "data": {
      "text/html": [
       " View project at <a href='https://wandb.ai/brain-lab/moabb-testing' target=\"_blank\">https://wandb.ai/brain-lab/moabb-testing</a>"
      ],
      "text/plain": [
       "<IPython.core.display.HTML object>"
      ]
     },
     "metadata": {},
     "output_type": "display_data"
    },
    {
     "data": {
      "text/html": [
       " View sweep at <a href='https://wandb.ai/brain-lab/moabb-testing/sweeps/zut1nu79' target=\"_blank\">https://wandb.ai/brain-lab/moabb-testing/sweeps/zut1nu79</a>"
      ],
      "text/plain": [
       "<IPython.core.display.HTML object>"
      ]
     },
     "metadata": {},
     "output_type": "display_data"
    },
    {
     "data": {
      "text/html": [
       " View run at <a href='https://wandb.ai/brain-lab/moabb-testing/runs/mjvfizb0' target=\"_blank\">https://wandb.ai/brain-lab/moabb-testing/runs/mjvfizb0</a>"
      ],
      "text/plain": [
       "<IPython.core.display.HTML object>"
      ]
     },
     "metadata": {},
     "output_type": "display_data"
    },
    {
     "name": "stdout",
     "output_type": "stream",
     "text": [
      "\n",
      "\n",
      "CONFIGS\n",
      "{'eval': 'subject', 'subjects': {'dataset': '456', 'subject_list': [4, 5, 6]}}\n"
     ]
    },
    {
     "data": {
      "text/html": [
       " View run <strong style=\"color:#cdcd00\">wise-sweep-2</strong> at: <a href='https://wandb.ai/brain-lab/moabb-testing/runs/mjvfizb0' target=\"_blank\">https://wandb.ai/brain-lab/moabb-testing/runs/mjvfizb0</a><br/> View project at: <a href='https://wandb.ai/brain-lab/moabb-testing' target=\"_blank\">https://wandb.ai/brain-lab/moabb-testing</a><br/>Synced 5 W&B file(s), 0 media file(s), 0 artifact file(s) and 0 other file(s)"
      ],
      "text/plain": [
       "<IPython.core.display.HTML object>"
      ]
     },
     "metadata": {},
     "output_type": "display_data"
    },
    {
     "data": {
      "text/html": [
       "Find logs at: <code>./wandb/run-20241114_175221-mjvfizb0/logs</code>"
      ],
      "text/plain": [
       "<IPython.core.display.HTML object>"
      ]
     },
     "metadata": {},
     "output_type": "display_data"
    },
    {
     "name": "stderr",
     "output_type": "stream",
     "text": [
      "\u001b[34m\u001b[1mwandb\u001b[0m: Sweep Agent: Waiting for job.\n",
      "\u001b[34m\u001b[1mwandb\u001b[0m: Sweep Agent: Exiting.\n"
     ]
    }
   ],
   "source": [
    "import wandb\n",
    "\n",
    "def sweep_test():\n",
    "    run = wandb.init()\n",
    "\n",
    "    print(\"\\n\\nCONFIGS\")\n",
    "    print(run.config)\n",
    "    \n",
    "    return run\n",
    "\n",
    "sweep_id = \"zut1nu79\"\n",
    "wandb.agent(sweep_id=sweep_id, function=sweep_test, project=\"moabb-testing\")"
   ]
  },
  {
   "cell_type": "code",
   "execution_count": 27,
   "metadata": {},
   "outputs": [
    {
     "data": {
      "text/plain": [
       "True"
      ]
     },
     "execution_count": 27,
     "metadata": {},
     "output_type": "execute_result"
    }
   ],
   "source": [
    "wandb.run is None\n"
   ]
  },
  {
   "cell_type": "code",
   "execution_count": 8,
   "metadata": {},
   "outputs": [
    {
     "name": "stdout",
     "output_type": "stream",
     "text": [
      "We try to set the tensorflow seeds, but it seems that tensorflow is not installed. Please refer to `https://www.tensorflow.org/` to install if you need to use this deep learning module.\n"
     ]
    }
   ],
   "source": [
    "import importlib\n",
    "\n",
    "config_file = \"/Users/ldix/Documents/Projects/moabb-generalised/pipelines/my_pipes/my_shallowNet.py\"\n",
    "\n",
    "if config_file.endswith(\".py\"):\n",
    "    spec = importlib.util.spec_from_file_location(\"custom\", config_file)\n",
    "    foo = importlib.util.module_from_spec(spec)\n",
    "    spec.loader.exec_module(foo)\n",
    "    foo.PIPELINE"
   ]
  },
  {
   "cell_type": "code",
   "execution_count": 9,
   "metadata": {},
   "outputs": [
    {
     "data": {
      "text/plain": [
       "['bp_test.py']"
      ]
     },
     "execution_count": 9,
     "metadata": {},
     "output_type": "execute_result"
    }
   ],
   "source": [
    "from pathlib import Path\n",
    "\n",
    "[f.name for f in Path.cwd().glob(\"*.py\")]"
   ]
  },
  {
   "cell_type": "code",
   "execution_count": 10,
   "metadata": {},
   "outputs": [],
   "source": [
    "from moabb import paradigms as moabb_paradigms\n"
   ]
  },
  {
   "cell_type": "code",
   "execution_count": null,
   "metadata": {},
   "outputs": [
    {
     "data": {
      "text/plain": [
       "<module 'moabb.paradigms' from '/Users/ldix/Documents/Projects/moabb-generalised/moabb/paradigms/__init__.py'>"
      ]
     },
     "execution_count": 11,
     "metadata": {},
     "output_type": "execute_result"
    }
   ],
   "source": []
  },
  {
   "cell_type": "code",
   "execution_count": 5,
   "metadata": {},
   "outputs": [
    {
     "data": {
      "text/html": [
       "Changes to your `wandb` environment variables will be ignored because your `wandb` session has already started. For more information on how to modify your settings with `wandb.init()` arguments, please refer to <a href='https://wandb.me/wandb-init' target=\"_blank\">the W&B docs</a>."
      ],
      "text/plain": [
       "<IPython.core.display.HTML object>"
      ]
     },
     "metadata": {},
     "output_type": "display_data"
    },
    {
     "data": {
      "text/html": [
       "Tracking run with wandb version 0.18.0"
      ],
      "text/plain": [
       "<IPython.core.display.HTML object>"
      ]
     },
     "metadata": {},
     "output_type": "display_data"
    },
    {
     "data": {
      "text/html": [
       "Run data is saved locally in <code>/Users/ldix/Documents/Projects/moabb-generalised/wandb/run-20241114_091037-d6clgxdy</code>"
      ],
      "text/plain": [
       "<IPython.core.display.HTML object>"
      ]
     },
     "metadata": {},
     "output_type": "display_data"
    },
    {
     "data": {
      "text/html": [
       "Syncing run <strong><a href='https://wandb.ai/brain-lab/moabb-testing/runs/d6clgxdy' target=\"_blank\">eager-sweep-36</a></strong> to <a href='https://wandb.ai/brain-lab/moabb-testing' target=\"_blank\">Weights & Biases</a> (<a href='https://wandb.me/run' target=\"_blank\">docs</a>)<br/>Sweep page: <a href='https://wandb.ai/brain-lab/moabb-testing/sweeps/xpdv5o8e' target=\"_blank\">https://wandb.ai/brain-lab/moabb-testing/sweeps/xpdv5o8e</a>"
      ],
      "text/plain": [
       "<IPython.core.display.HTML object>"
      ]
     },
     "metadata": {},
     "output_type": "display_data"
    },
    {
     "data": {
      "text/html": [
       " View project at <a href='https://wandb.ai/brain-lab/moabb-testing' target=\"_blank\">https://wandb.ai/brain-lab/moabb-testing</a>"
      ],
      "text/plain": [
       "<IPython.core.display.HTML object>"
      ]
     },
     "metadata": {},
     "output_type": "display_data"
    },
    {
     "data": {
      "text/html": [
       " View sweep at <a href='https://wandb.ai/brain-lab/moabb-testing/sweeps/xpdv5o8e' target=\"_blank\">https://wandb.ai/brain-lab/moabb-testing/sweeps/xpdv5o8e</a>"
      ],
      "text/plain": [
       "<IPython.core.display.HTML object>"
      ]
     },
     "metadata": {},
     "output_type": "display_data"
    },
    {
     "data": {
      "text/html": [
       " View run at <a href='https://wandb.ai/brain-lab/moabb-testing/runs/d6clgxdy' target=\"_blank\">https://wandb.ai/brain-lab/moabb-testing/runs/d6clgxdy</a>"
      ],
      "text/plain": [
       "<IPython.core.display.HTML object>"
      ]
     },
     "metadata": {},
     "output_type": "display_data"
    },
    {
     "name": "stdout",
     "output_type": "stream",
     "text": [
      "{'datasets': 'BNCI2014-004', 'evaluation': 'CrossSession', 'paradigm': 'MotorImagery', 'pipeline': 'braindecode_EEGInception'}\n",
      "d6clgxdy\n",
      "/Users/ldix/Documents/Projects/moabb-generalised/wandb/run-20241114_091037-d6clgxdy/files\n",
      "eager-sweep-36\n",
      "brain-lab/moabb-testing/d6clgxdy\n"
     ]
    }
   ],
   "source": [
    "run = wandb.init()\n",
    "\n",
    "print(run.config)\n",
    "print(run.id)\n",
    "print(run.dir)\n",
    "print(run.name)\n",
    "print(run.path)"
   ]
  },
  {
   "cell_type": "code",
   "execution_count": 21,
   "metadata": {},
   "outputs": [
    {
     "data": {
      "text/plain": [
       "<Settings {'_Settings__frozen': True, '_Settings__initialized': True, '_Settings__modification_order': ('_service_wait', '_stats_sample_rate_seconds', '_stats_samples_to_average', '_stats_sampling_interval', 'anonymous', 'api_key', 'base_url', 'console', 'job_source', 'mode', 'project', 'run_id', 'start_method', '_aws_lambda', 'program', '_code_path_local', '_colab', '_disable_machine_info', '_disable_meta', '_disable_stats', '_network_buffer', '_flow_control_disabled', '_flow_control_custom', '_ipython', '_jupyter', '_kaggle', '_noop', '_notebook', 'disabled', '_offline', '_shared', '_stats_neuron_monitor_config_path', 'run_mode', '_start_datetime', 'timespec', 'root_dir', 'wandb_dir', 'tmp_dir', '_tmp_code_dir', '_windows', 'colab_url', 'is_local', 'deployment', 'disable_code', 'disable_git', 'disable_job_creation', 'files_dir', '_proxies', 'http_proxy', 'https_proxy', 'log_dir', 'log_internal', 'log_symlink_internal', 'log_symlink_user', 'log_user', 'project_url', 'resume_fname', 'run_url', 'settings_system', 'settings_workspace', 'sweep_url', 'sync_dir', 'sync_file', 'sync_symlink_latest'), '_Settings_start_datetime': None, '_Settings_start_time': None, '_args': '<Property value=None source=1>', '_aws_lambda': '<Property value=False source=1>', '_cli_only_mode': '<Property value=None source=1>', '_code_path_local': '<Property value=wandbtest.ipynb source=1>', '_colab': '<Property value=False source=1>', '_cuda': '<Property value=None source=1>', '_disable_meta': '<Property value=False source=1>', '_disable_service': '<Property value=False source=9>', '_disable_setproctitle': '<Property value=False source=1>', '_disable_stats': '<Property value=False source=1>', '_disable_update_check': '<Property value=None source=1>', '_disable_viewer': '<Property value=None source=1>', '_disable_machine_info': '<Property value=False source=1>', '_executable': '<Property value=/Users/ldix/miniconda3/envs/bci/bin/python source=8>', '_extra_http_headers': '<Property value=None source=1>', '_file_stream_max_bytes': '<Property value=None source=1>', '_file_stream_retry_max': '<Property value=None source=1>', '_file_stream_retry_wait_min_seconds': '<Property value=None source=1>', '_file_stream_retry_wait_max_seconds': '<Property value=None source=1>', '_file_stream_timeout_seconds': '<Property value=None source=1>', '_file_transfer_retry_max': '<Property value=None source=1>', '_file_transfer_retry_wait_min_seconds': '<Property value=None source=1>', '_file_transfer_retry_wait_max_seconds': '<Property value=None source=1>', '_file_transfer_timeout_seconds': '<Property value=None source=1>', '_flow_control_custom': '<Property value=False source=1>', '_flow_control_disabled': '<Property value=False source=1>', '_graphql_retry_max': '<Property value=None source=1>', '_graphql_retry_wait_min_seconds': '<Property value=None source=1>', '_graphql_retry_wait_max_seconds': '<Property value=None source=1>', '_graphql_timeout_seconds': '<Property value=None source=1>', '_internal_check_process': '<Property value=8.0 source=1>', '_internal_queue_timeout': '<Property value=2.0 source=1>', '_ipython': '<Property value=False source=1>', '_jupyter': '<Property value=True source=1>', '_jupyter_name': '<Property value=wandbtest.ipynb source=8>', '_jupyter_path': '<Property value=/Users/ldix/Documents/Projects/moabb-generalised/wandbtest.ipynb source=8>', '_jupyter_root': '<Property value=/Users/ldix/Documents/Projects/moabb-generalised source=8>', '_kaggle': '<Property value=False source=1>', '_live_policy_rate_limit': '<Property value=None source=1>', '_live_policy_wait_time': '<Property value=None source=1>', '_log_level': '<Property value=10 source=1>', '_network_buffer': '<Property value=None source=1>', '_noop': '<Property value=False source=1>', '_notebook': '<Property value=True source=1>', '_offline': '<Property value=False source=1>', '_sync': '<Property value=False source=1>', '_os': '<Property value=macOS-14.7-arm64-arm-64bit source=8>', '_platform': '<Property value=darwin source=1>', '_proxies': '<Property value=None source=1>', '_python': '<Property value=3.12.3 source=8>', '_runqueue_item_id': '<Property value=None source=1>', '_require_legacy_service': '<Property value=False source=1>', '_save_requirements': '<Property value=True source=1>', '_service_transport': '<Property value=None source=1>', '_service_wait': '<Property value=30.0 source=1>', '_shared': '<Property value=False source=1>', '_start_datetime': '<Property value=20241114_091037 source=11>', '_start_time': '<Property value=1731571837.278954 source=11>', '_stats_pid': '<Property value=3801 source=9>', '_stats_sampling_interval': '<Property value=10.0 source=1>', '_stats_sample_rate_seconds': '<Property value=2.0 source=1>', '_stats_samples_to_average': '<Property value=15 source=1>', '_stats_join_assets': '<Property value=True source=1>', '_stats_neuron_monitor_config_path': '<Property value=None source=1>', '_stats_open_metrics_endpoints': '<Property value=None source=1>', '_stats_open_metrics_filters': \"<Property value=('.*',) source=1>\", '_stats_disk_paths': \"<Property value=('/',) source=1>\", '_stats_buffer_size': '<Property value=0 source=1>', '_tmp_code_dir': '<Property value=/Users/ldix/Documents/Projects/moabb-generalised/wandb/run-20241114_091037-d6clgxdy/tmp/code source=1>', '_tracelog': '<Property value=None source=1>', '_unsaved_keys': '<Property value=None source=1>', '_windows': '<Property value=False source=1>', 'allow_val_change': '<Property value=None source=1>', 'anonymous': '<Property value=None source=1>', 'api_key': '<Property value=None source=1>', 'azure_account_url_to_access_key': '<Property value=None source=1>', 'base_url': '<Property value=https://api.wandb.ai source=1>', 'code_dir': '<Property value=None source=1>', 'colab_url': '<Property value=None source=1>', 'config_paths': '<Property value=None source=1>', 'console': '<Property value=wrap source=1>', 'console_multipart': '<Property value=False source=1>', 'credentials_file': '<Property value=/Users/ldix/.config/wandb/credentials.json source=1>', 'deployment': '<Property value=cloud source=1>', 'disable_code': '<Property value=False source=1>', 'disable_git': '<Property value=False source=8>', 'disable_hints': '<Property value=None source=1>', 'disable_job_creation': '<Property value=False source=1>', 'disabled': '<Property value=False source=1>', 'docker': '<Property value=None source=8>', 'email': '<Property value=lauritsdixen@gmail.com source=5>', 'entity': '<Property value=brain-lab source=14>', 'files_dir': '<Property value=/Users/ldix/Documents/Projects/moabb-generalised/wandb/run-20241114_091037-d6clgxdy/files source=1>', 'force': '<Property value=None source=1>', 'fork_from': '<Property value=None source=1>', 'resume_from': '<Property value=None source=1>', 'git_commit': '<Property value=e52b71d54c6f4ea3daebdb219c037634de692761 source=14>', 'git_remote': '<Property value=origin source=1>', 'git_remote_url': '<Property value=https://github.com/LauritsDixen/moabb-generalised.git source=14>', 'git_root': '<Property value=None source=1>', 'heartbeat_seconds': '<Property value=30 source=1>', 'host': '<Property value=mac623610  source=14>', 'http_proxy': '<Property value=None source=1>', 'https_proxy': '<Property value=None source=1>', 'identity_token_file': '<Property value=None source=1>', 'ignore_globs': '<Property value=() source=1>', 'init_timeout': '<Property value=90.0 source=1>', 'is_local': '<Property value=False source=1>', 'job_name': '<Property value=None source=1>', 'job_source': '<Property value=None source=1>', 'label_disable': '<Property value=None source=1>', 'launch': '<Property value=None source=1>', 'launch_config_path': '<Property value=None source=1>', 'log_dir': '<Property value=/Users/ldix/Documents/Projects/moabb-generalised/wandb/run-20241114_091037-d6clgxdy/logs source=1>', 'log_internal': '<Property value=/Users/ldix/Documents/Projects/moabb-generalised/wandb/run-20241114_091037-d6clgxdy/logs/debug-internal.log source=1>', 'log_symlink_internal': '<Property value=/Users/ldix/Documents/Projects/moabb-generalised/wandb/debug-internal.log source=1>', 'log_symlink_user': '<Property value=/Users/ldix/Documents/Projects/moabb-generalised/wandb/debug.log source=1>', 'log_user': '<Property value=/Users/ldix/Documents/Projects/moabb-generalised/wandb/run-20241114_091037-d6clgxdy/logs/debug.log source=1>', 'login_timeout': '<Property value=None source=1>', 'mode': '<Property value=online source=1>', 'notebook_name': '<Property value=None source=1>', 'program': '<Property value=/Users/ldix/Documents/Projects/moabb-generalised/wandbtest.ipynb source=8>', 'program_abspath': '<Property value=None source=1>', 'program_relpath': '<Property value=None source=1>', 'project': '<Property value=moabb-testing source=14>', 'project_url': '<Property value=https://wandb.ai/brain-lab/moabb-testing source=1>', 'quiet': '<Property value=None source=1>', 'reinit': '<Property value=None source=1>', 'relogin': '<Property value=None source=1>', 'resume': '<Property value=None source=1>', 'resume_fname': '<Property value=/Users/ldix/Documents/Projects/moabb-generalised/wandb/wandb-resume.json source=1>', 'resumed': '<Property value=False source=1>', 'root_dir': '<Property value=/Users/ldix/Documents/Projects/moabb-generalised source=8>', 'run_group': '<Property value=None source=1>', 'run_id': '<Property value=d6clgxdy source=14>', 'run_job_type': '<Property value=None source=1>', 'run_mode': '<Property value=run source=1>', 'run_name': '<Property value=eager-sweep-36 source=14>', 'run_notes': '<Property value=None source=1>', 'run_tags': '<Property value=None source=1>', 'run_url': '<Property value=https://wandb.ai/brain-lab/moabb-testing/runs/d6clgxdy source=1>', 'sagemaker_disable': '<Property value=None source=1>', 'save_code': '<Property value=None source=1>', 'settings_system': '<Property value=/Users/ldix/.config/wandb/settings source=1>', 'settings_workspace': '<Property value=/Users/ldix/Documents/Projects/moabb-generalised/wandb/settings source=1>', 'show_colors': '<Property value=None source=1>', 'show_emoji': '<Property value=None source=1>', 'show_errors': '<Property value=True source=1>', 'show_info': '<Property value=True source=1>', 'show_warnings': '<Property value=True source=1>', 'silent': '<Property value=False source=1>', 'start_method': '<Property value=None source=1>', 'strict': '<Property value=None source=1>', 'summary_errors': '<Property value=None source=1>', 'summary_timeout': '<Property value=60 source=1>', 'summary_warnings': '<Property value=5 source=14>', 'sweep_id': '<Property value=xpdv5o8e source=14>', 'sweep_param_path': '<Property value=/Users/ldix/Documents/Projects/moabb-generalised/wandb/sweep-xpdv5o8e/config-d6clgxdy.yaml source=8>', 'sweep_url': '<Property value=https://wandb.ai/brain-lab/moabb-testing/sweeps/xpdv5o8e source=1>', 'symlink': '<Property value=True source=8>', 'sync_dir': '<Property value=/Users/ldix/Documents/Projects/moabb-generalised/wandb/run-20241114_091037-d6clgxdy source=1>', 'sync_file': '<Property value=/Users/ldix/Documents/Projects/moabb-generalised/wandb/run-20241114_091037-d6clgxdy/run-d6clgxdy.wandb source=1>', 'sync_symlink_latest': '<Property value=/Users/ldix/Documents/Projects/moabb-generalised/wandb/latest-run source=1>', 'table_raise_on_max_row_limit_exceeded': '<Property value=False source=1>', 'timespec': '<Property value=20241114_091037 source=1>', 'tmp_dir': '<Property value=/Users/ldix/Documents/Projects/moabb-generalised/wandb/run-20241114_091037-d6clgxdy/tmp source=1>', 'username': '<Property value=ldix source=8>', 'wandb_dir': '<Property value=/Users/ldix/Documents/Projects/moabb-generalised/wandb/ source=1>'}>"
      ]
     },
     "execution_count": 21,
     "metadata": {},
     "output_type": "execute_result"
    }
   ],
   "source": [
    "wandb.run.settings"
   ]
  }
 ],
 "metadata": {
  "kernelspec": {
   "display_name": "bci",
   "language": "python",
   "name": "python3"
  },
  "language_info": {
   "codemirror_mode": {
    "name": "ipython",
    "version": 3
   },
   "file_extension": ".py",
   "mimetype": "text/x-python",
   "name": "python",
   "nbconvert_exporter": "python",
   "pygments_lexer": "ipython3",
   "version": "3.12.3"
  }
 },
 "nbformat": 4,
 "nbformat_minor": 2
}
